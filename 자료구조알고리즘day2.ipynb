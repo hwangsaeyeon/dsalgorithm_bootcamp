{
  "nbformat": 4,
  "nbformat_minor": 0,
  "metadata": {
    "colab": {
      "provenance": [],
      "collapsed_sections": [
        "aosxrHt0CkMc",
        "RSXookqWFA4l",
        "QRDG8D5JJwCA",
        "_ADQNLOdLQhm",
        "GNlwdB4RO_Ol",
        "uhEav7QmSFfx",
        "tn56mNQLYQX3",
        "-yt1zEzViSvL",
        "WV5Sy3SvjJZ1"
      ],
      "authorship_tag": "ABX9TyOBwy2LaKHe+EbPpoR+w496",
      "include_colab_link": true
    },
    "kernelspec": {
      "name": "python3",
      "display_name": "Python 3"
    },
    "language_info": {
      "name": "python"
    }
  },
  "cells": [
    {
      "cell_type": "markdown",
      "metadata": {
        "id": "view-in-github",
        "colab_type": "text"
      },
      "source": [
        "<a href=\"https://colab.research.google.com/github/hwangsaeyeon/dsalgorithm_bootcamp/blob/main/%EC%9E%90%EB%A3%8C%EA%B5%AC%EC%A1%B0%EC%95%8C%EA%B3%A0%EB%A6%AC%EC%A6%98day2.ipynb\" target=\"_parent\"><img src=\"https://colab.research.google.com/assets/colab-badge.svg\" alt=\"Open In Colab\"/></a>"
      ]
    },
    {
      "cell_type": "markdown",
      "source": [
        "###관계 연산자 \n",
        "if (a==200)보다는 if (200==a)가 안전함"
      ],
      "metadata": {
        "id": "aosxrHt0CkMc"
      }
    },
    {
      "cell_type": "code",
      "execution_count": null,
      "metadata": {
        "colab": {
          "base_uri": "https://localhost:8080/"
        },
        "id": "zziLFZFMCBqS",
        "outputId": "7dde5917-34ad-4d56-b650-0dc2b64ff558"
      },
      "outputs": [
        {
          "output_type": "stream",
          "name": "stdout",
          "text": [
            "Overwriting relational_1.c\n"
          ]
        }
      ],
      "source": [
        "%%writefile relational_1.c\n",
        "\n",
        "#include <stdio.h>\n",
        "\n",
        "int main(){\n",
        "    int a=100, b=200; \n",
        "    printf(\"%d == %d는 %d이다.\\n\",a,b,a==b);\n",
        "    printf(\"%d != %d는 %d이다.\\n\",a,b,a!=b);\n",
        "    printf(\"%d > %d는 %d이다.\\n\",a,b,a>b);\n",
        "    printf(\"%d < %d는 %d이다.\\n\",a,b,a<b);\n",
        "    printf(\"%d >= %d는 %d이다.\\n\",a,b,a>=b);\n",
        "    printf(\"%d <= %d는 %d이다.\\n\",a,b,a<=b);\n",
        "\n",
        "    printf(\"%d = %d는 %d이다.\\n\",a,b,a=b); //대입 연산자 \n",
        "\n",
        "}"
      ]
    },
    {
      "cell_type": "code",
      "source": [
        "%%shell \n",
        "gcc relational_1.c -o relational1\n",
        "./relational1"
      ],
      "metadata": {
        "colab": {
          "base_uri": "https://localhost:8080/"
        },
        "id": "8n9ivloRCqsy",
        "outputId": "eb127669-0baf-483e-b14a-564ce3ada596"
      },
      "execution_count": null,
      "outputs": [
        {
          "output_type": "stream",
          "name": "stdout",
          "text": [
            "100 == 200는 0이다.\n",
            "100 != 200는 1이다.\n",
            "100 > 200는 0이다.\n",
            "100 < 200는 1이다.\n",
            "100 >= 200는 0이다.\n",
            "100 <= 200는 1이다.\n",
            "200 = 200는 200이다.\n"
          ]
        },
        {
          "output_type": "execute_result",
          "data": {
            "text/plain": []
          },
          "metadata": {},
          "execution_count": 7
        }
      ]
    },
    {
      "cell_type": "markdown",
      "source": [
        "###논리 연산자\n",
        "A && B : A가 참이면 B 실행\n",
        "\n",
        "A || B : A가 거짓이면 B 실행"
      ],
      "metadata": {
        "id": "RSXookqWFA4l"
      }
    },
    {
      "cell_type": "code",
      "source": [
        "%%writefile logical_1.c\n",
        "#include <stdio.h>\n",
        "int main()\n",
        "{\n",
        "    char a = 3; \n",
        "    a > 2 && a++;\n",
        "    a > 2 || a++;\n",
        "    printf(\"a = %d\\n\",a);\n",
        "    return 0; \n",
        "}"
      ],
      "metadata": {
        "colab": {
          "base_uri": "https://localhost:8080/"
        },
        "id": "qxkF9ZgxFJOI",
        "outputId": "8a9f2211-8d53-4c3a-920b-895af7549060"
      },
      "execution_count": null,
      "outputs": [
        {
          "output_type": "stream",
          "name": "stdout",
          "text": [
            "Overwriting logical_1.c\n"
          ]
        }
      ]
    },
    {
      "cell_type": "code",
      "source": [
        "%%shell \n",
        "gcc logical_1.c -o logical1\n",
        "./logical1"
      ],
      "metadata": {
        "colab": {
          "base_uri": "https://localhost:8080/"
        },
        "id": "CatqKZ7DFd47",
        "outputId": "501360b5-e4e0-4009-cd28-204220b33c3a"
      },
      "execution_count": null,
      "outputs": [
        {
          "output_type": "stream",
          "name": "stdout",
          "text": [
            "a = 4\n"
          ]
        },
        {
          "output_type": "execute_result",
          "data": {
            "text/plain": []
          },
          "metadata": {},
          "execution_count": 13
        }
      ]
    },
    {
      "cell_type": "markdown",
      "source": [
        "###비트 주세요\n",
        "<< 비트를 왼쪽으로 시프트\n",
        "\n",
        "\\>> 비트를 오른쪽으로 시프트 "
      ],
      "metadata": {
        "id": "QRDG8D5JJwCA"
      }
    },
    {
      "cell_type": "code",
      "source": [
        "%%writefile bit_1.c\n",
        "\n",
        "#include <stdio.h>\n",
        "int main()\n",
        "{\n",
        "    char a = 10; //0000 1010\n",
        "    printf(\"a<<1=%d\\n\", a<<1); //0001 0100 = 20 \n",
        "    printf(\"a<<2=%d\\n\", a<<2); //0010 1000 = 40 \n",
        "    printf(\"a>>1=%d\\n\", a>>1); //0000 0101 = 5\n",
        "    printf(\"a>>2=%d\\n\", a>>2); //0000 0010 = 2\n",
        "\n",
        "}"
      ],
      "metadata": {
        "colab": {
          "base_uri": "https://localhost:8080/"
        },
        "id": "kJMQRdYdJy5A",
        "outputId": "da17563c-6fb8-44cb-9161-f497d56c0441"
      },
      "execution_count": null,
      "outputs": [
        {
          "output_type": "stream",
          "name": "stdout",
          "text": [
            "Overwriting bit_1.c\n"
          ]
        }
      ]
    },
    {
      "cell_type": "code",
      "source": [
        "%%shell\n",
        "gcc bit_1.c -o bit1\n",
        "./bit1"
      ],
      "metadata": {
        "colab": {
          "base_uri": "https://localhost:8080/"
        },
        "id": "lQWo9N83K1mW",
        "outputId": "17464a8e-3a5d-4535-c565-f96918fd04cc"
      },
      "execution_count": null,
      "outputs": [
        {
          "output_type": "stream",
          "name": "stdout",
          "text": [
            "a<<1=20\n",
            "a<<2=40\n",
            "a>>1=5\n",
            "a>>2=2\n"
          ]
        },
        {
          "output_type": "execute_result",
          "data": {
            "text/plain": []
          },
          "metadata": {},
          "execution_count": 17
        }
      ]
    },
    {
      "cell_type": "markdown",
      "source": [
        "### if-else\n",
        "if(조건문)\n",
        "\n",
        "elif -> else if \n",
        "\n",
        "조건문 ? 참일때실행 : 거짓일때 실행;"
      ],
      "metadata": {
        "id": "_ADQNLOdLQhm"
      }
    },
    {
      "cell_type": "code",
      "source": [
        "%%writefile tenary_1.c\n",
        "\n",
        "#include <stdio.h>\n",
        "\n",
        "int main()\n",
        "{\n",
        "    int a = 200, b= 100, max = 0;\n",
        "\n",
        "    if (a >= b){\n",
        "        max = a; \n",
        "    }\n",
        "    else\n",
        "    {\n",
        "        max = b;\n",
        "    }\n",
        "    printf(\"max = %d\\n\", max); \n",
        "    \n",
        "    max = 0; \n",
        "    max = a>=b ? a : b;\n",
        "    printf(\"max = %d\\n\",max); \n",
        "}"
      ],
      "metadata": {
        "colab": {
          "base_uri": "https://localhost:8080/"
        },
        "id": "r9oTHuQHLSzW",
        "outputId": "b1d493e7-7437-4f03-dbd2-13e219a1b7e6"
      },
      "execution_count": null,
      "outputs": [
        {
          "output_type": "stream",
          "name": "stdout",
          "text": [
            "Overwriting tenary_1.c\n"
          ]
        }
      ]
    },
    {
      "cell_type": "code",
      "source": [
        "%%writefile tenary_2.c\n",
        "#include <stdio.h>\n",
        "int main(){\n",
        "    int a= 200; \n",
        "    if (a<100)\n",
        "    {\n",
        "        printf(\"100보다 작군요\\n\");\n",
        "        printf(\"참이면 이 문장도 보이겠죠?\\n\"); \n",
        "    }\n",
        "    else{\n",
        "        printf(\"100보다 크군요\\n\");\n",
        "        printf(\"거짓\\n\"); \n",
        "    }\n",
        "    printf(\"프로그램 끗\"); \n",
        "}"
      ],
      "metadata": {
        "colab": {
          "base_uri": "https://localhost:8080/"
        },
        "id": "epIadtfkNSbl",
        "outputId": "30938d28-3367-47d6-b953-7c0af311b86b"
      },
      "execution_count": null,
      "outputs": [
        {
          "output_type": "stream",
          "name": "stdout",
          "text": [
            "Overwriting tenary_2.c\n"
          ]
        }
      ]
    },
    {
      "cell_type": "code",
      "source": [
        "%%shell\n",
        "gcc tenary_1.c -o tenary1\n",
        "./tenary1"
      ],
      "metadata": {
        "colab": {
          "base_uri": "https://localhost:8080/"
        },
        "id": "XkCOzRZcN4cX",
        "outputId": "9f1d8eea-d5aa-410a-8779-08654e567b1c"
      },
      "execution_count": null,
      "outputs": [
        {
          "output_type": "stream",
          "name": "stdout",
          "text": [
            "max = 200\n",
            "max = 200\n"
          ]
        },
        {
          "output_type": "execute_result",
          "data": {
            "text/plain": []
          },
          "metadata": {},
          "execution_count": 25
        }
      ]
    },
    {
      "cell_type": "code",
      "source": [
        "%%shell\n",
        "gcc tenary_2.c -o tenary2\n",
        "./tenary2"
      ],
      "metadata": {
        "colab": {
          "base_uri": "https://localhost:8080/"
        },
        "id": "7wxwZxTWOBmu",
        "outputId": "29522a62-2fbb-45e6-f9b4-32173876477a"
      },
      "execution_count": null,
      "outputs": [
        {
          "output_type": "stream",
          "name": "stdout",
          "text": [
            "100보다 크군요\n",
            "거짓\n",
            "프로그램 끗"
          ]
        },
        {
          "output_type": "execute_result",
          "data": {
            "text/plain": []
          },
          "metadata": {},
          "execution_count": 29
        }
      ]
    },
    {
      "cell_type": "markdown",
      "source": [
        "###Switch "
      ],
      "metadata": {
        "id": "GNlwdB4RO_Ol"
      }
    },
    {
      "cell_type": "code",
      "source": [
        "%%writefile switch_1.c\n",
        "\n",
        "#define _CRT_SECURE_NO_WARNINGS\n",
        "#include <stdio.h>\n",
        "\n",
        "int main()\n",
        "{\n",
        "    int a; \n",
        "    printf(\"1~4 중에 선택하세요 : \"); \n",
        "    scanf(\"%d\", &a); \n",
        "\n",
        "    switch(a)\n",
        "        {\n",
        "        case 1: \n",
        "            printf(\"1을 선택했다\\n\"); \n",
        "            break; \n",
        "        case 2: \n",
        "            printf(\"2를 선택했다\\n\"); \n",
        "            break;  \n",
        "        case 3: \n",
        "            printf(\"3을 선택했다\\n\"); \n",
        "            break;  \n",
        "        case 4: \n",
        "            printf(\"4를 선택했다\\n\"); \n",
        "            break;\n",
        "        default:\n",
        "            printf(\"이상한 걸 선택했다\\n\"); \n",
        "        }\n",
        "    return 0; \n",
        "}"
      ],
      "metadata": {
        "colab": {
          "base_uri": "https://localhost:8080/"
        },
        "id": "lXaD0ffGPCtJ",
        "outputId": "6a37dad0-2278-4c83-faba-4f81e73848fb"
      },
      "execution_count": null,
      "outputs": [
        {
          "output_type": "stream",
          "name": "stdout",
          "text": [
            "Overwriting switch_1.c\n"
          ]
        }
      ]
    },
    {
      "cell_type": "code",
      "source": [
        "%%shell \n",
        "gcc switch_1.c -o switch1\n",
        "./switch1"
      ],
      "metadata": {
        "colab": {
          "base_uri": "https://localhost:8080/"
        },
        "id": "2d8lV_21RC9G",
        "outputId": "e263680d-391e-4b3e-8d93-3c06620730f1"
      },
      "execution_count": null,
      "outputs": [
        {
          "output_type": "stream",
          "name": "stdout",
          "text": [
            "1~4 중에 선택하세요 : 5\n",
            "이상한 걸 선택했다\n"
          ]
        },
        {
          "output_type": "execute_result",
          "data": {
            "text/plain": []
          },
          "metadata": {},
          "execution_count": 49
        }
      ]
    },
    {
      "cell_type": "markdown",
      "source": [
        "###for문\n",
        "for(초깃값 ; 조건식 ; 증감식)"
      ],
      "metadata": {
        "id": "uhEav7QmSFfx"
      }
    },
    {
      "cell_type": "code",
      "source": [
        "%%writefile for_1.c\n",
        "\n",
        "#define _CRT_SECURE_NO_WARNINGS\n",
        "#include <stdio.h>\n",
        "\n",
        "int main(){\n",
        "    int hap = 0; \n",
        "    int i=0;\n",
        "    int num;\n",
        "\n",
        "    printf(\"값 입력 : \"); \n",
        "    scanf(\"%d\",&num); \n",
        "\n",
        "    for(i=1; i<=num; i++){\n",
        "        hap += i; \n",
        "        // hap 1 (i=2)\n",
        "        // hap 1+2 (i=3)\n",
        "        // hap 3+3 (i=4)\n",
        "        // hap 6+4 (i=5)\n",
        "        // hap 10+5 (i=6)\n",
        "        // hap 15+6 (i=7)\n",
        "        // hap 21+7 (i=8)\n",
        "        // hap 28+8 (i=9)\n",
        "        // hap 36+9 (i=10)\n",
        "        // hap 45+10 (i=11)\n",
        "    }\n",
        "\n",
        "    printf(\"1에서 %d까지의 합 %d \\n\", num, hap); \n",
        "\n",
        "}"
      ],
      "metadata": {
        "colab": {
          "base_uri": "https://localhost:8080/"
        },
        "id": "98cPLTUQSE19",
        "outputId": "a2bea3f5-d7f0-4c5a-d631-c597e246611c"
      },
      "execution_count": null,
      "outputs": [
        {
          "output_type": "stream",
          "name": "stdout",
          "text": [
            "Overwriting for_1.c\n"
          ]
        }
      ]
    },
    {
      "cell_type": "code",
      "source": [
        "%%shell \n",
        "gcc for_1.c -o for1\n",
        "./for1"
      ],
      "metadata": {
        "colab": {
          "base_uri": "https://localhost:8080/"
        },
        "id": "Br_A0rEkT-dz",
        "outputId": "6d1d3bda-cb03-4aba-8ec9-c55e4223103f"
      },
      "execution_count": null,
      "outputs": [
        {
          "output_type": "stream",
          "name": "stdout",
          "text": [
            "값 입력 : 10\n",
            "1에서 10까지의 합 55 \n"
          ]
        },
        {
          "output_type": "execute_result",
          "data": {
            "text/plain": []
          },
          "metadata": {},
          "execution_count": 61
        }
      ]
    },
    {
      "cell_type": "code",
      "source": [
        "%%writefile for_2.c\n",
        "#include <stdio.h>\n",
        "\n",
        "int main()\n",
        "{\n",
        "    int i, k; \n",
        "    for (i=0; i<3; i++)\n",
        "    {\n",
        "        for(k=0; k<2; k++)\n",
        "        {\n",
        "            printf(\"중첩 for 문입니다. (i값 %d, k값 %d)\\n\",i,k); \n",
        "        }\n",
        "    }\n",
        "}"
      ],
      "metadata": {
        "colab": {
          "base_uri": "https://localhost:8080/"
        },
        "id": "YAvtE9T-UxHE",
        "outputId": "32b5b440-3e86-4581-86cb-02f223a89de3"
      },
      "execution_count": null,
      "outputs": [
        {
          "output_type": "stream",
          "name": "stdout",
          "text": [
            "Overwriting for_2.c\n"
          ]
        }
      ]
    },
    {
      "cell_type": "code",
      "source": [
        "%%shell \n",
        "gcc for_2.c -o for2\n",
        "./for2"
      ],
      "metadata": {
        "colab": {
          "base_uri": "https://localhost:8080/"
        },
        "id": "dZxZlRF1VBPq",
        "outputId": "ab790d0d-93c8-4dad-8d1d-463aebedd1b4"
      },
      "execution_count": null,
      "outputs": [
        {
          "output_type": "stream",
          "name": "stdout",
          "text": [
            "중첩 for 문입니다. (i값 0, k값 0)\n",
            "중첩 for 문입니다. (i값 0, k값 1)\n",
            "중첩 for 문입니다. (i값 1, k값 0)\n",
            "중첩 for 문입니다. (i값 1, k값 1)\n",
            "중첩 for 문입니다. (i값 2, k값 0)\n",
            "중첩 for 문입니다. (i값 2, k값 1)\n"
          ]
        },
        {
          "output_type": "execute_result",
          "data": {
            "text/plain": []
          },
          "metadata": {},
          "execution_count": 82
        }
      ]
    },
    {
      "cell_type": "code",
      "source": [
        "%%writefile for_3.c\n",
        "\n",
        "#include <stdio.h>\n",
        "int main()\n",
        "{\n",
        "    int i, k;\n",
        "\n",
        "    for (i=1, k=1; i<=9; i++, k++)\n",
        "        printf(\"%d X %d = %d \\n\",i,k,i*k);\n",
        "\n",
        "}"
      ],
      "metadata": {
        "colab": {
          "base_uri": "https://localhost:8080/"
        },
        "id": "ty5MAPBtVqzP",
        "outputId": "7278891d-53f0-4499-966f-7bf41b5ef5ca"
      },
      "execution_count": null,
      "outputs": [
        {
          "output_type": "stream",
          "name": "stdout",
          "text": [
            "Overwriting for_3.c\n"
          ]
        }
      ]
    },
    {
      "cell_type": "code",
      "source": [
        "%%shell \n",
        "gcc for_3.c -o for3\n",
        "./for3"
      ],
      "metadata": {
        "colab": {
          "base_uri": "https://localhost:8080/"
        },
        "id": "CJzxZpCHV5Of",
        "outputId": "75285bf9-aa10-49e7-c10c-d6eb5d283b7f"
      },
      "execution_count": null,
      "outputs": [
        {
          "output_type": "stream",
          "name": "stdout",
          "text": [
            "1 X 1 = 1 \n",
            "2 X 2 = 4 \n",
            "3 X 3 = 9 \n",
            "4 X 4 = 16 \n",
            "5 X 5 = 25 \n",
            "6 X 6 = 36 \n",
            "7 X 7 = 49 \n",
            "8 X 8 = 64 \n",
            "9 X 9 = 81 \n"
          ]
        },
        {
          "output_type": "execute_result",
          "data": {
            "text/plain": []
          },
          "metadata": {},
          "execution_count": 76
        }
      ]
    },
    {
      "cell_type": "markdown",
      "source": [
        "###while 문\n",
        "while(1) : 무한루프\n",
        "\n",
        "do ~ while문: 조건식이 아래에, 무조건 한 번은 실행"
      ],
      "metadata": {
        "id": "tn56mNQLYQX3"
      }
    },
    {
      "cell_type": "code",
      "source": [
        "%%writefile while_1.c\n",
        "\n",
        "#define _CRT_SECURE_NO_WARNINGS\n",
        "#include <stdio.h>\n",
        "\n",
        "int main()\n",
        "{\n",
        "    int menu; \n",
        "    do {\n",
        "        printf(\"손님 주문?\");\n",
        "        printf(\"<1>카페라떼 <2>카푸치노 <3>아메리카노 <4>그만 시킬래요 ==> \");\n",
        "        scanf(\"%d\",&menu);\n",
        "        switch(menu){\n",
        "            case 1 : printf(\"#카페라떼 주문하셨습니다. ^^\\n\"); break; \n",
        "            case 2 : printf(\"#카푸치노 주문하셨습니다. --;\\n\"); break;\n",
        "            case 3 : printf(\"#아메리카노 주문하셨습니다. ^^\\n\"); break; \n",
        "            case 4 : printf(\"주문하신 커피 준비하겠습니다. \\n\"); break; \n",
        "            default : printf(\"잘못 주문하셨습니다.\"); \n",
        "        }\n",
        "    } while (menu != 4); // 조건문이 아래에\n",
        "}"
      ],
      "metadata": {
        "colab": {
          "base_uri": "https://localhost:8080/"
        },
        "id": "4fr9dQl9YPw1",
        "outputId": "1b1d2332-9aee-4556-9e14-6a0a0b1fca7c"
      },
      "execution_count": null,
      "outputs": [
        {
          "output_type": "stream",
          "name": "stdout",
          "text": [
            "Writing while_1.c\n"
          ]
        }
      ]
    },
    {
      "cell_type": "code",
      "source": [
        "%%shell \n",
        "gcc while_1.c -o while1\n",
        "./while1 "
      ],
      "metadata": {
        "colab": {
          "base_uri": "https://localhost:8080/"
        },
        "id": "wcgbaYnScgPQ",
        "outputId": "ca7fa768-f948-4165-80d4-55826d5e76c0"
      },
      "execution_count": null,
      "outputs": [
        {
          "output_type": "stream",
          "name": "stdout",
          "text": [
            "손님 주문?<1>카페라떼 <2>카푸치노 <3>아메리카노 <4>그만 시킬래요 ==> 1\n",
            "#카페라떼 주문하셨습니다. ^^\n",
            "손님 주문?<1>카페라떼 <2>카푸치노 <3>아메리카노 <4>그만 시킬래요 ==> 2\n",
            "#카푸치노 주문하셨습니다. --;\n",
            "손님 주문?<1>카페라떼 <2>카푸치노 <3>아메리카노 <4>그만 시킬래요 ==> 3\n",
            "#아메리카노 주문하셨습니다. ^^\n",
            "손님 주문?<1>카페라떼 <2>카푸치노 <3>아메리카노 <4>그만 시킬래요 ==> 3\n",
            "#아메리카노 주문하셨습니다. ^^\n",
            "손님 주문?<1>카페라떼 <2>카푸치노 <3>아메리카노 <4>그만 시킬래요 ==> 4\n",
            "주문하신 커피 준비하겠습니다. \n"
          ]
        },
        {
          "output_type": "execute_result",
          "data": {
            "text/plain": []
          },
          "metadata": {},
          "execution_count": 78
        }
      ]
    },
    {
      "cell_type": "code",
      "source": [
        "%%writefile while_2.c\n",
        "\n",
        "#define _CRT_SECURE_NO_WARNINGS\n",
        "#include <stdio.h>\n",
        "int main()\n",
        "{\n",
        "    int a,b;\n",
        "    char ch;\n",
        "    while(1) //무한루프 \n",
        "    {\n",
        "        printf(\"계산할 두 수를 입력 : \"); \n",
        "        scanf(\"%d %d\",&a,&b); \n",
        "\n",
        "        printf(\"계산할 연산자를 입력하세요 : \"); \n",
        "        scanf(\" %c\",&ch); \n",
        "\n",
        "        switch(ch){\n",
        "            case '+': \n",
        "                printf(\"%d + %d = %d 입니다. \\n\",a,b,a+b); \n",
        "                break ;\n",
        "            case '-': \n",
        "                printf(\"%d - %d = %d 입니다. \\n\",a,b,a-b); \n",
        "                break ;\n",
        "            case '*': \n",
        "                printf(\"%d * %d = %d 입니다. \\n\",a,b,a*b); \n",
        "                break ;\n",
        "            case '/': \n",
        "                printf(\"%d / %d = %d 입니다. \\n\",a,b,a/b); \n",
        "                break ;\n",
        "            case '%': \n",
        "                printf(\"%d %% %d = %d 입니다. \\n\",a,b,a%b); \n",
        "                break ;\n",
        "            default : \n",
        "                printf(\"연산자를 잘못 입력했습니다. \\n\"); \n",
        "\n",
        "        }\n",
        "    }\n",
        "}"
      ],
      "metadata": {
        "colab": {
          "base_uri": "https://localhost:8080/"
        },
        "id": "YyawUKepc47z",
        "outputId": "e2c4ba20-4a33-4229-9db5-0aee69241d74"
      },
      "execution_count": null,
      "outputs": [
        {
          "output_type": "stream",
          "name": "stdout",
          "text": [
            "Overwriting while_2.c\n"
          ]
        }
      ]
    },
    {
      "cell_type": "markdown",
      "source": [
        "###break "
      ],
      "metadata": {
        "id": "-yt1zEzViSvL"
      }
    },
    {
      "cell_type": "code",
      "source": [
        "%%writefile break_1.c\n",
        "#include <stdio.h>\n",
        "\n",
        "int main()\n",
        "{\n",
        "    int hap =0; \n",
        "    int i; \n",
        "\n",
        "    for (i=1; i<=100; i++) //괄호 안의 내용을 다 돌고서 i + 1 이 됨\n",
        "    {\n",
        "        hap = hap + i; \n",
        "\n",
        "        if(hap>=1000)\n",
        "            break; \n",
        "    }\n",
        "    printf(\"1~100의 합에서 최초로 100이 넘는 위치는? %d\\n\", i);\n",
        "}"
      ],
      "metadata": {
        "colab": {
          "base_uri": "https://localhost:8080/"
        },
        "id": "QjVWvrQfiR1S",
        "outputId": "92b66d64-ad6c-4eb8-a453-a81f016f09d1"
      },
      "execution_count": null,
      "outputs": [
        {
          "output_type": "stream",
          "name": "stdout",
          "text": [
            "Overwriting break_1.c\n"
          ]
        }
      ]
    },
    {
      "cell_type": "code",
      "source": [
        "%%shell \n",
        "gcc break_1.c -o break1\n",
        "./break1"
      ],
      "metadata": {
        "colab": {
          "base_uri": "https://localhost:8080/"
        },
        "id": "LeIKydLgipIb",
        "outputId": "89b577c1-360f-4a01-cc12-2a7107313042"
      },
      "execution_count": null,
      "outputs": [
        {
          "output_type": "stream",
          "name": "stdout",
          "text": [
            "1~100의 합에서 최초로 100이 넘는 위치는? 45\n"
          ]
        },
        {
          "output_type": "execute_result",
          "data": {
            "text/plain": []
          },
          "metadata": {},
          "execution_count": 102
        }
      ]
    },
    {
      "cell_type": "markdown",
      "source": [
        "### continue "
      ],
      "metadata": {
        "id": "WV5Sy3SvjJZ1"
      }
    },
    {
      "cell_type": "code",
      "source": [
        "%%writefile continue_1.c\n",
        "#include <stdio.h>\n",
        "\n",
        "int main(){\n",
        "    int hap = 0 ; \n",
        "    int i;\n",
        "\n",
        "    for (i=1; i<=100; i++){\n",
        "        if (i%3 ==0)\n",
        "            continue; //다시 for 문으로 돌아간다 \n",
        "        hap += i; \n",
        "    }\n",
        "    printf(\"1~100까지의 합(3의 배수 제외) : %d\\n\", hap); \n",
        "}"
      ],
      "metadata": {
        "colab": {
          "base_uri": "https://localhost:8080/"
        },
        "id": "NsozZBZgjMoG",
        "outputId": "4c23c3c6-2f6b-4f2f-9ed9-03a830d5e61a"
      },
      "execution_count": null,
      "outputs": [
        {
          "output_type": "stream",
          "name": "stdout",
          "text": [
            "Overwriting continue_1.c\n"
          ]
        }
      ]
    },
    {
      "cell_type": "code",
      "source": [
        "%%shell \n",
        "gcc continue_1.c -o continue1 \n",
        "./continue1"
      ],
      "metadata": {
        "colab": {
          "base_uri": "https://localhost:8080/"
        },
        "id": "FaRJnqFbjiiU",
        "outputId": "1c7f5ba3-7860-4c68-e907-6bc8dcd2e364"
      },
      "execution_count": null,
      "outputs": [
        {
          "output_type": "stream",
          "name": "stdout",
          "text": [
            "1~100까지의 합(3의 배수 제외) : 3367\n"
          ]
        },
        {
          "output_type": "execute_result",
          "data": {
            "text/plain": []
          },
          "metadata": {},
          "execution_count": 107
        }
      ]
    },
    {
      "cell_type": "markdown",
      "source": [
        "###Array \n",
        "행부터 접근할 것"
      ],
      "metadata": {
        "id": "spMUli3knBLT"
      }
    },
    {
      "cell_type": "code",
      "source": [
        "%%writefile array_1.c\n",
        "\n",
        "#include <stdio.h>\n",
        "int main()\n",
        "{\n",
        "    int aa[4] = {100,200,300,400}; \n",
        "    int bb[] = {100,200,300,400}; \n",
        "    int cc[4] = {100,200}; \n",
        "    int dd[4] = {0}; \n",
        "    int i; \n",
        "\n",
        "    for (i=0 ; i<=3 ; i++)\n",
        "        printf(\"aa[%d] ==> %d\\t\",i,aa[i]);\n",
        "    printf(\"\\n\");\n",
        "\n",
        "    for (i=0 ; i<=3 ; i++)\n",
        "        printf(\"bb[%d] ==> %d\\t\",i,bb[i]);\n",
        "    printf(\"\\n\");\n",
        "\n",
        "    for (i=0 ; i<=3 ; i++)\n",
        "        printf(\"cc[%d] ==> %d\\t\",i,cc[i]);\n",
        "    printf(\"\\n\");\n",
        "\n",
        "    for (i=0 ; i<=3 ; i++)\n",
        "        printf(\"dd[%d] ==> %d\\t\",i,dd[i]);\n",
        "    printf(\"\\n\");\n",
        "}"
      ],
      "metadata": {
        "colab": {
          "base_uri": "https://localhost:8080/"
        },
        "id": "lZuMN9OXnE-L",
        "outputId": "d83d5040-778e-4dd8-fb08-70a1b5ead37a"
      },
      "execution_count": null,
      "outputs": [
        {
          "output_type": "stream",
          "name": "stdout",
          "text": [
            "Overwriting array_1.c\n"
          ]
        }
      ]
    },
    {
      "cell_type": "code",
      "source": [
        "%%shell \n",
        "gcc array_1.c -o array1\n",
        "./array1"
      ],
      "metadata": {
        "colab": {
          "base_uri": "https://localhost:8080/"
        },
        "id": "RDNRuxnnpStN",
        "outputId": "33971c75-1e92-4324-e6b9-8979b89574e5"
      },
      "execution_count": null,
      "outputs": [
        {
          "output_type": "stream",
          "name": "stdout",
          "text": [
            "aa[0] ==> 100\taa[1] ==> 200\taa[2] ==> 300\taa[3] ==> 400\t\n",
            "bb[0] ==> 100\tbb[1] ==> 200\tbb[2] ==> 300\tbb[3] ==> 400\t\n",
            "cc[0] ==> 100\tcc[1] ==> 200\tcc[2] ==> 0\tcc[3] ==> 0\t\n",
            "dd[0] ==> 0\tdd[1] ==> 0\tdd[2] ==> 0\tdd[3] ==> 0\t\n"
          ]
        },
        {
          "output_type": "execute_result",
          "data": {
            "text/plain": []
          },
          "metadata": {},
          "execution_count": 111
        }
      ]
    },
    {
      "cell_type": "code",
      "source": [
        "%%writefile array_2.c\n",
        "#include <stdio.h>\n",
        "\n",
        "int main()\n",
        "{\n",
        "    int aa[] = {10,20,30,40,50}; \n",
        "    int count; \n",
        "    \n",
        "    count = sizeof(aa)/sizeof(int); // sizeof(배열이름)/sizeof(배열Type)\n",
        "    printf(\"배열 aa[]의 요소의 개수는 %d 입니다.\\n\",count); \n",
        "}"
      ],
      "metadata": {
        "colab": {
          "base_uri": "https://localhost:8080/"
        },
        "id": "-oOa0MGypfor",
        "outputId": "41faa13b-054b-4d09-d30a-bca4ec688b17"
      },
      "execution_count": null,
      "outputs": [
        {
          "output_type": "stream",
          "name": "stdout",
          "text": [
            "Writing array_2.c\n"
          ]
        }
      ]
    },
    {
      "cell_type": "code",
      "source": [
        "%%shell\n",
        "gcc array_2.c -o array2 \n",
        "./array2"
      ],
      "metadata": {
        "colab": {
          "base_uri": "https://localhost:8080/"
        },
        "id": "E66G9c1npz1F",
        "outputId": "1e28009b-3031-4f28-c42a-b3ff85bb6f66"
      },
      "execution_count": null,
      "outputs": [
        {
          "output_type": "stream",
          "name": "stdout",
          "text": [
            "배열 aa[]의 요소의 개수는 5 입니다.\n"
          ]
        },
        {
          "output_type": "execute_result",
          "data": {
            "text/plain": []
          },
          "metadata": {},
          "execution_count": 113
        }
      ]
    },
    {
      "cell_type": "code",
      "source": [
        "%%writefile array_3.c\n",
        "\n",
        "#include <stdio.h>\n",
        "int main()\n",
        "{\n",
        "    int aa[3][4] = {\n",
        "        {1,2,3,4},\n",
        "        {5,6,7,8},\n",
        "        {9,10,11,12}\n",
        "    }; \n",
        "    int i, k;\n",
        "    printf(\"aa[0][0]부터 a[2][3]까지 출력 \\n\"); \n",
        "    for (i=0; i<3; i++)\n",
        "    {\n",
        "        for (k=0; k<4; k++)\n",
        "        {\n",
        "            printf(\"%3d\", aa[i][k]);\n",
        "        }\n",
        "        printf(\"\\n\"); \n",
        "    }\n",
        "}"
      ],
      "metadata": {
        "colab": {
          "base_uri": "https://localhost:8080/"
        },
        "id": "oUZcBCk5p4Iu",
        "outputId": "2539319c-5235-4458-db7c-fe4f3918711c"
      },
      "execution_count": null,
      "outputs": [
        {
          "output_type": "stream",
          "name": "stdout",
          "text": [
            "Overwriting array_3.c\n"
          ]
        }
      ]
    },
    {
      "cell_type": "code",
      "source": [
        "%%shell \n",
        "gcc array_3.c -o array3\n",
        "./array3"
      ],
      "metadata": {
        "colab": {
          "base_uri": "https://localhost:8080/"
        },
        "id": "wdR0vBleqSWR",
        "outputId": "8a7d57d1-32dc-4cc6-9bb1-2abd36e6386f"
      },
      "execution_count": null,
      "outputs": [
        {
          "output_type": "stream",
          "name": "stdout",
          "text": [
            "aa[0][0]부터 a[2][3]까지 출력 \n",
            "  1  2  3  4\n",
            "  5  6  7  8\n",
            "  9 10 11 12\n"
          ]
        },
        {
          "output_type": "execute_result",
          "data": {
            "text/plain": []
          },
          "metadata": {},
          "execution_count": 134
        }
      ]
    }
  ]
}