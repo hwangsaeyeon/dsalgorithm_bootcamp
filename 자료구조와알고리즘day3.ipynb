{
  "nbformat": 4,
  "nbformat_minor": 0,
  "metadata": {
    "colab": {
      "provenance": [],
      "authorship_tag": "ABX9TyMwLjh9QI4fY/DAQuBnmj7O",
      "include_colab_link": true
    },
    "kernelspec": {
      "name": "python3",
      "display_name": "Python 3"
    },
    "language_info": {
      "name": "python"
    }
  },
  "cells": [
    {
      "cell_type": "markdown",
      "metadata": {
        "id": "view-in-github",
        "colab_type": "text"
      },
      "source": [
        "<a href=\"https://colab.research.google.com/github/hwangsaeyeon/dsalgorithm_bootcamp/blob/main/%EC%9E%90%EB%A3%8C%EA%B5%AC%EC%A1%B0%EC%99%80%EC%95%8C%EA%B3%A0%EB%A6%AC%EC%A6%98day3.ipynb\" target=\"_parent\"><img src=\"https://colab.research.google.com/assets/colab-badge.svg\" alt=\"Open In Colab\"/></a>"
      ]
    },
    {
      "cell_type": "markdown",
      "source": [
        "###String"
      ],
      "metadata": {
        "id": "BzeZya4FOACT"
      }
    },
    {
      "cell_type": "markdown",
      "source": [
        "sizeof() 함수: 문자열 배열의 크기\n",
        "\n",
        "strlen() 함수: 문자열 배열에 저장된 문자열의 크기"
      ],
      "metadata": {
        "id": "r8TN7y-gT79E"
      }
    },
    {
      "cell_type": "code",
      "source": [
        "%%writefile string1.c \n",
        "#include <stdio.h>\n",
        "#define _CRT_SECURE_NO_WARNINGS\n",
        "#include <string.h>\n",
        "\n",
        "int main(){\n",
        "    char str[15] = \" \";\n",
        "    int i = 0, len = 0;\n",
        "    \n",
        "    printf(\"문자열 입력 ==> \");\n",
        "    scanf(\"%s\",str);\n",
        "    \n",
        "    printf(\"sizeof(str) / sizeof(char) : %1d\\n\", sizeof(str)/sizeof(char));\n",
        "    len = strlen(str);\n",
        "    printf(\"len : %1d\\n\",len);\n",
        "    \n",
        "    for (i = len-1 ; i>=0 ; i--)\n",
        "    {\n",
        "        printf(\"%c\", str[i]);\n",
        "    }\n",
        "    printf(\"\\n\");\n",
        "\n",
        "}"
      ],
      "metadata": {
        "colab": {
          "base_uri": "https://localhost:8080/"
        },
        "id": "BOLRe7Q6TtJi",
        "outputId": "2a845fb9-50ab-41da-846e-009c27b0bb49"
      },
      "execution_count": 10,
      "outputs": [
        {
          "output_type": "stream",
          "name": "stdout",
          "text": [
            "Writing string1.c\n"
          ]
        }
      ]
    },
    {
      "cell_type": "code",
      "source": [
        "%%shell \n",
        "gcc string1.c -o string1\n",
        "./string1"
      ],
      "metadata": {
        "colab": {
          "base_uri": "https://localhost:8080/"
        },
        "id": "69TJdkWgT0Am",
        "outputId": "817cba03-ae25-4e0c-9f89-ef67f17bc8b0"
      },
      "execution_count": 12,
      "outputs": [
        {
          "output_type": "stream",
          "name": "stdout",
          "text": [
            "\u001b[01m\u001b[Kstring1.c:\u001b[m\u001b[K In function ‘\u001b[01m\u001b[Kmain\u001b[m\u001b[K’:\n",
            "\u001b[01m\u001b[Kstring1.c:12:44:\u001b[m\u001b[K \u001b[01;35m\u001b[Kwarning: \u001b[m\u001b[Kformat ‘\u001b[01m\u001b[K%d\u001b[m\u001b[K’ expects argument of type ‘\u001b[01m\u001b[Kint\u001b[m\u001b[K’, but argument 2 has type ‘\u001b[01m\u001b[Klong unsigned int\u001b[m\u001b[K’ [\u001b[01;35m\u001b[K-Wformat=\u001b[m\u001b[K]\n",
            "     printf(\"sizeof(str) / sizeof(char) : \u001b[01;35m\u001b[K%1d\u001b[m\u001b[K\\n\", sizeof(str)/sizeof(char));\n",
            "                                          \u001b[01;35m\u001b[K~~^\u001b[m\u001b[K\n",
            "                                          \u001b[32m\u001b[K%1ld\u001b[m\u001b[K\n",
            "문자열 입력 ==> hwangsaeyeon\n",
            "sizeof(str) / sizeof(char) : 15\n",
            "len : 12\n",
            "noeyeasgnawh\n"
          ]
        },
        {
          "output_type": "execute_result",
          "data": {
            "text/plain": []
          },
          "metadata": {},
          "execution_count": 12
        }
      ]
    },
    {
      "cell_type": "markdown",
      "source": [
        "**strcpy(dst, src)**: src(출발지) 값을 dst(목적지)에 덮어씌움 \n",
        "\n",
        "dst 길이 >= src 길이 "
      ],
      "metadata": {
        "id": "ZV518utMUKop"
      }
    },
    {
      "cell_type": "code",
      "execution_count": 1,
      "metadata": {
        "colab": {
          "base_uri": "https://localhost:8080/"
        },
        "id": "uvd-R_EWN80l",
        "outputId": "1bb83fe6-0eb2-4477-cd36-7e67f3b63503"
      },
      "outputs": [
        {
          "output_type": "stream",
          "name": "stdout",
          "text": [
            "Writing string.c\n"
          ]
        }
      ],
      "source": [
        "%%writefile string.c \n",
        "#include <stdio.h>\n",
        "#define _CRT_SECURE_NO_WARNINGS\n",
        "#include <string.h>\n",
        "\n",
        "int main(){\n",
        "    char str1[10];\n",
        "    char str2[10];\n",
        "    char str3[10] = \"CodeBook\";\n",
        "    \n",
        "    strcpy(str1, \"Basic-C\");\n",
        "    strcpy(str2, str3);\n",
        "    \n",
        "    printf(\"str1 ==> %s \\n\",str1);\n",
        "    printf(\"str2 ==> %s \\n\",str2);\n",
        "    printf(\"str3 ==> %s \\n\",str3);\n",
        "}"
      ]
    },
    {
      "cell_type": "code",
      "source": [
        "%%shell \n",
        "gcc string.c -o string\n",
        "./string"
      ],
      "metadata": {
        "colab": {
          "base_uri": "https://localhost:8080/"
        },
        "id": "pq7w_hJYQpfh",
        "outputId": "04258498-8e28-4f3e-f238-e45f26c55dca"
      },
      "execution_count": 3,
      "outputs": [
        {
          "output_type": "stream",
          "name": "stdout",
          "text": [
            "str1 ==> Basic-C \n",
            "str2 ==> CodeBook \n",
            "str3 ==> CodeBook \n"
          ]
        },
        {
          "output_type": "execute_result",
          "data": {
            "text/plain": []
          },
          "metadata": {},
          "execution_count": 3
        }
      ]
    },
    {
      "cell_type": "markdown",
      "source": [
        "**strcat(dst, src)**: src (출발지) 값을 dst (목적지) 뒤에 이음 \n",
        "\n",
        "이어주는 자리는 null 문자 자리부터 시작\n",
        "\n",
        "dst 길이 >= src 길이 \n"
      ],
      "metadata": {
        "id": "yAYW_FQzRGF7"
      }
    },
    {
      "cell_type": "code",
      "source": [
        "%%writefile strcat.c\n",
        "#include <stdio.h>\n",
        "#define _CRT_SECURE_NO_WARNINGS\n",
        "#include <string.h>\n",
        "\n",
        "int main(){\n",
        "    char ss[7] = \"XYZ\";\n",
        "    strcat(ss, \"ABC\");\n",
        "    printf(\"이어진 문자열 ss의 내용 ==> %s \\n\", ss);\n",
        "}\n"
      ],
      "metadata": {
        "colab": {
          "base_uri": "https://localhost:8080/"
        },
        "id": "8ODcmxFHRHJ5",
        "outputId": "d25e3c62-627e-4163-f2f8-8c8b17507182"
      },
      "execution_count": 4,
      "outputs": [
        {
          "output_type": "stream",
          "name": "stdout",
          "text": [
            "Writing strcat.c\n"
          ]
        }
      ]
    },
    {
      "cell_type": "code",
      "source": [
        "%%shell \n",
        "gcc strcat.c -o strcat\n",
        "./strcat"
      ],
      "metadata": {
        "colab": {
          "base_uri": "https://localhost:8080/"
        },
        "id": "I07VClX1SVL1",
        "outputId": "e5d93722-299f-41b7-cde0-dd12876ee952"
      },
      "execution_count": 5,
      "outputs": [
        {
          "output_type": "stream",
          "name": "stdout",
          "text": [
            "이어진 문자열 ss의 내용 ==> XYZABC \n"
          ]
        },
        {
          "output_type": "execute_result",
          "data": {
            "text/plain": []
          },
          "metadata": {},
          "execution_count": 5
        }
      ]
    },
    {
      "cell_type": "markdown",
      "source": [
        "**strcmp(src1, src2)**: src1, src2 문자열이 같으면 0, 다르면 그 외 값 변환 "
      ],
      "metadata": {
        "id": "PYUIs9fIRna-"
      }
    },
    {
      "cell_type": "code",
      "source": [
        "%%writefile strcmp.c \n",
        "\n",
        "#include <stdio.h>\n",
        "#include <string.h>\n",
        "\n",
        "int main()\n",
        "{\n",
        "    char s1[10] = \"Hello\";\n",
        "    char *s2 = \"Hello\";\n",
        "    char *s3 = \"World!\";\n",
        "    \n",
        "    int ret1 = strcmp(s1,s2);\n",
        "    int ret2 = strcmp(s1,s3);\n",
        "    \n",
        "    printf(\"ret1: %d\\n\", ret1);\n",
        "    printf(\"ret2: %d\\n\", ret2);\n",
        "    \n",
        "    return 0;\n",
        "}"
      ],
      "metadata": {
        "colab": {
          "base_uri": "https://localhost:8080/"
        },
        "id": "rAgOVsj3RoRM",
        "outputId": "1a62fcf8-39a7-469b-99ee-6635a01696cd"
      },
      "execution_count": 6,
      "outputs": [
        {
          "output_type": "stream",
          "name": "stdout",
          "text": [
            "Writing strcmp.c\n"
          ]
        }
      ]
    },
    {
      "cell_type": "code",
      "source": [
        "%%shell \n",
        "gcc strcmp.c -o strcmp\n",
        "./strcmp"
      ],
      "metadata": {
        "colab": {
          "base_uri": "https://localhost:8080/"
        },
        "id": "lCUEhltNSZQQ",
        "outputId": "94bf285f-063c-4427-d808-1d1a44343de0"
      },
      "execution_count": 7,
      "outputs": [
        {
          "output_type": "stream",
          "name": "stdout",
          "text": [
            "ret1: 0\n",
            "ret2: -15\n"
          ]
        },
        {
          "output_type": "execute_result",
          "data": {
            "text/plain": []
          },
          "metadata": {},
          "execution_count": 7
        }
      ]
    },
    {
      "cell_type": "markdown",
      "source": [
        "str 토큰\n",
        "\n",
        "**strtok(src, del): **src 문자열을 자른 결과를 반환\n",
        "\n",
        "모든 결과를 한번에 주지 않으므로 while문으로 문자열을 계속 잘라서 반환\n",
        "\n",
        "맨 처음 strtok()는 공백 문자를 찾아서 NULL로 채움 \n"
      ],
      "metadata": {
        "id": "LSZMjgWQRpee"
      }
    },
    {
      "cell_type": "code",
      "source": [
        "%%writefile strtok.c\n",
        "#include <stdio.h>\n",
        "#define _CRT_SECURE_NO_WARNINGS\n",
        "#include <string.h>\n",
        "\n",
        "int main()\n",
        "{\n",
        "    char s1[30] = \"There is no free lunch\";\n",
        "    \n",
        "    char *ptr = strtok(s1, \" \"); //공백 문자를 기준으로 문자열 자름\n",
        "    while (ptr != NULL)\n",
        "    {\n",
        "        printf(\"%s\\n\", ptr);\n",
        "        ptr = strtok(NULL, \" \");  //공백 문자로 포인터 이동 다시 공백 문자를 기준으로 문자열 자름\n",
        "    }\n",
        "    return 0; \n",
        "}"
      ],
      "metadata": {
        "colab": {
          "base_uri": "https://localhost:8080/"
        },
        "id": "Enxma1_7SKcX",
        "outputId": "82e95591-2fb5-45c0-c832-9bffbce4fe71"
      },
      "execution_count": 8,
      "outputs": [
        {
          "output_type": "stream",
          "name": "stdout",
          "text": [
            "Writing strtok.c\n"
          ]
        }
      ]
    },
    {
      "cell_type": "code",
      "source": [
        "%%shell \n",
        "gcc strtok.c -o strtok\n",
        "./strtok"
      ],
      "metadata": {
        "colab": {
          "base_uri": "https://localhost:8080/"
        },
        "id": "llgUpaGRSdch",
        "outputId": "612dae54-d9ca-46c6-dfe6-a6b68c8bc0d3"
      },
      "execution_count": 9,
      "outputs": [
        {
          "output_type": "stream",
          "name": "stdout",
          "text": [
            "There\n",
            "is\n",
            "no\n",
            "free\n",
            "lunch\n"
          ]
        },
        {
          "output_type": "execute_result",
          "data": {
            "text/plain": []
          },
          "metadata": {},
          "execution_count": 9
        }
      ]
    },
    {
      "cell_type": "markdown",
      "source": [
        "###Function "
      ],
      "metadata": {
        "id": "8DwHlvVsV8PD"
      }
    },
    {
      "cell_type": "code",
      "source": [
        "%%writefile func_1.c\n",
        "\n",
        "#include <stdio.h>\n",
        "\n",
        "int plus(int v1, int v2)\n",
        "{\n",
        "    int result;\n",
        "    result = v1 + v2;\n",
        "    return result;\n",
        "}\n",
        "\n",
        "int main()\n",
        "{\n",
        "    int hap;\n",
        "    hap = plus(100,200);\n",
        "    printf(\"100과 200의 plus() 함수 결과는 : %d\\n\",hap);\n",
        "    return 0; \n",
        "}\n"
      ],
      "metadata": {
        "colab": {
          "base_uri": "https://localhost:8080/"
        },
        "id": "-UgMjS--V_Oc",
        "outputId": "ac6adb76-749e-462e-8b99-f4ff588f9663"
      },
      "execution_count": 29,
      "outputs": [
        {
          "output_type": "stream",
          "name": "stdout",
          "text": [
            "Overwriting func_1.c\n"
          ]
        }
      ]
    },
    {
      "cell_type": "code",
      "source": [
        "%%shell\n",
        "gcc func_1.c -o func1\n",
        "./func1"
      ],
      "metadata": {
        "colab": {
          "base_uri": "https://localhost:8080/"
        },
        "id": "Fj3UNn8KWryf",
        "outputId": "8ecfae0a-625d-437b-d55d-e02fba062233"
      },
      "execution_count": 30,
      "outputs": [
        {
          "output_type": "stream",
          "name": "stdout",
          "text": [
            "100과 200의 plus() 함수 결과는 : 300\n"
          ]
        },
        {
          "output_type": "execute_result",
          "data": {
            "text/plain": []
          },
          "metadata": {},
          "execution_count": 30
        }
      ]
    },
    {
      "cell_type": "markdown",
      "source": [
        "###Local Variables "
      ],
      "metadata": {
        "id": "131YqaHAgSXl"
      }
    },
    {
      "cell_type": "markdown",
      "source": [
        "call by reference : * \n",
        "\n",
        "주소를 함수에 전달, 원본 값 변경 가능 "
      ],
      "metadata": {
        "id": "rFE8YIAFfd71"
      }
    },
    {
      "cell_type": "code",
      "source": [
        "%%writefile callbyref.c\n",
        "#include <stdio.h>\n",
        "int func1(int *a)\n",
        "{\n",
        "    *a = *a + 1; //*을 안해주면 전달받은 a는 11이 되지만 함수 실행 후의 a는 10이됨 \n",
        "    printf(\"전달받은 a ==> %d\\n\", *a); \n",
        "}\n",
        "\n",
        "int main()\n",
        "{\n",
        "    int a = 10; \n",
        "    func1(&a); \n",
        "    printf(\"func1() 실행 후의 a ==> %d\\n\", a); \n",
        "}"
      ],
      "metadata": {
        "colab": {
          "base_uri": "https://localhost:8080/"
        },
        "id": "epZqfOkAfiEG",
        "outputId": "164fc294-e2bb-440c-9b36-7de0bccc6120"
      },
      "execution_count": 33,
      "outputs": [
        {
          "output_type": "stream",
          "name": "stdout",
          "text": [
            "Overwriting callbyref.c\n"
          ]
        }
      ]
    },
    {
      "cell_type": "code",
      "source": [
        "%%shell \n",
        "gcc callbyref.c -o cbr \n",
        "./cbr"
      ],
      "metadata": {
        "colab": {
          "base_uri": "https://localhost:8080/"
        },
        "id": "34i2lcrogAhJ",
        "outputId": "36f0c749-a5b3-4090-a3bb-15ce6efd4011"
      },
      "execution_count": 34,
      "outputs": [
        {
          "output_type": "stream",
          "name": "stdout",
          "text": [
            "전달받은 a ==> 11\n",
            "func1() 실행 후의 a ==> 11\n"
          ]
        },
        {
          "output_type": "execute_result",
          "data": {
            "text/plain": []
          },
          "metadata": {},
          "execution_count": 34
        }
      ]
    },
    {
      "cell_type": "markdown",
      "source": [
        "##Pointer \n",
        "1. 포인터 선언 \n",
        "\n",
        "    자료형 *포인터이름;\n",
        "\n",
        "2. 주소 연산자\n",
        "\n",
        "    포인터 = &변수; \n",
        "\n",
        "3. 참조 연산자(값)\n",
        "\n",
        "    *포인터 = 값; \n",
        "\n",
        "    변수 = *포인터; "
      ],
      "metadata": {
        "id": "WqmeCPvKh5As"
      }
    },
    {
      "cell_type": "code",
      "source": [
        "%%writefile pointer1.c\n",
        "#include <stdio.h>\n",
        "int main(){\n",
        "    char ch;\n",
        "    char *p; \n",
        "\n",
        "    ch = 'A'; \n",
        "    p = &ch; //ch가 가리키는 주소가 p에 저장\n",
        "\n",
        "    printf(\"ch의 값 %c\\n\", ch);\n",
        "    printf(\"ch의 주소 %d\\n\", &ch);\n",
        "\n",
        "    printf(\"p의 값(주소) %d\\n\",p);\n",
        "    printf(\"p의 값(*p) %c\\n\",*p);\n",
        "}"
      ],
      "metadata": {
        "colab": {
          "base_uri": "https://localhost:8080/"
        },
        "id": "E_0fpf0ewMR3",
        "outputId": "f64c2399-c1da-4d81-d52d-40ad3e4c1c10"
      },
      "execution_count": 42,
      "outputs": [
        {
          "output_type": "stream",
          "name": "stdout",
          "text": [
            "Overwriting pointer1.c\n"
          ]
        }
      ]
    },
    {
      "cell_type": "code",
      "source": [
        "%%shell \n",
        "gcc pointer1.c -o pointer1\n",
        "./pointer1"
      ],
      "metadata": {
        "colab": {
          "base_uri": "https://localhost:8080/"
        },
        "id": "fL80pVRowoII",
        "outputId": "636fd017-bcc1-41d1-b371-5a63cea24afa"
      },
      "execution_count": 43,
      "outputs": [
        {
          "output_type": "stream",
          "name": "stdout",
          "text": [
            "\u001b[01m\u001b[Kpointer1.c:\u001b[m\u001b[K In function ‘\u001b[01m\u001b[Kmain\u001b[m\u001b[K’:\n",
            "\u001b[01m\u001b[Kpointer1.c:10:27:\u001b[m\u001b[K \u001b[01;35m\u001b[Kwarning: \u001b[m\u001b[Kformat ‘\u001b[01m\u001b[K%d\u001b[m\u001b[K’ expects argument of type ‘\u001b[01m\u001b[Kint\u001b[m\u001b[K’, but argument 2 has type ‘\u001b[01m\u001b[Kchar *\u001b[m\u001b[K’ [\u001b[01;35m\u001b[K-Wformat=\u001b[m\u001b[K]\n",
            "     printf(\"ch의 주소 \u001b[01;35m\u001b[K%d\u001b[m\u001b[K\\n\", \u001b[32m\u001b[K&ch\u001b[m\u001b[K);\n",
            "                          \u001b[01;35m\u001b[K~^\u001b[m\u001b[K     \u001b[32m\u001b[K~~~\u001b[m\u001b[K\n",
            "                          \u001b[32m\u001b[K%s\u001b[m\u001b[K\n",
            "\u001b[01m\u001b[Kpointer1.c:12:31:\u001b[m\u001b[K \u001b[01;35m\u001b[Kwarning: \u001b[m\u001b[Kformat ‘\u001b[01m\u001b[K%d\u001b[m\u001b[K’ expects argument of type ‘\u001b[01m\u001b[Kint\u001b[m\u001b[K’, but argument 2 has type ‘\u001b[01m\u001b[Kchar *\u001b[m\u001b[K’ [\u001b[01;35m\u001b[K-Wformat=\u001b[m\u001b[K]\n",
            "     printf(\"p의 값(주소) \u001b[01;35m\u001b[K%d\u001b[m\u001b[K\\n\",p);\n",
            "                              \u001b[01;35m\u001b[K~^\u001b[m\u001b[K\n",
            "                              \u001b[32m\u001b[K%s\u001b[m\u001b[K\n",
            "ch의 값 A\n",
            "ch의 주소 1170087455\n",
            "p의 값(주소) 1170087455\n",
            "p의 값(*p) A\n"
          ]
        },
        {
          "output_type": "execute_result",
          "data": {
            "text/plain": []
          },
          "metadata": {},
          "execution_count": 43
        }
      ]
    },
    {
      "cell_type": "markdown",
      "source": [
        "배열 = 주소다\n",
        "\n",
        "값 하나하나는 주소가 아니다"
      ],
      "metadata": {
        "id": "_HXryHGv34sP"
      }
    },
    {
      "cell_type": "code",
      "source": [
        "%%writefile pointer2.c\n",
        "\n",
        "#include <stdio.h>\n",
        "int main(){\n",
        "    char s[8] = \"Basic-C\"; //문자열 배열 선언 \n",
        "    char *p; //포인터 선언\n",
        "\n",
        "    p = s; \n",
        "\n",
        "    printf(\"문자열의 주소값 %s\\n\",&s[3]);\n",
        "    printf(\"포인터의 주소값 %s\\n\\n\",p+3);\n",
        "\n",
        "    printf(\"문자열의 실제값 %c\\n\",s[3]);\n",
        "    printf(\"포인터의 실제값 %c\\n\",*(p+3));\n",
        "}"
      ],
      "metadata": {
        "colab": {
          "base_uri": "https://localhost:8080/"
        },
        "id": "Li_hwP7ew8sy",
        "outputId": "b6d95e70-de39-4f9f-93e1-2a41a7584e83"
      },
      "execution_count": 56,
      "outputs": [
        {
          "output_type": "stream",
          "name": "stdout",
          "text": [
            "Overwriting pointer2.c\n"
          ]
        }
      ]
    },
    {
      "cell_type": "code",
      "source": [
        "%%shell \n",
        "gcc pointer2.c -o pointer2\n",
        "./pointer2"
      ],
      "metadata": {
        "colab": {
          "base_uri": "https://localhost:8080/"
        },
        "id": "7iX0rlCxx1vv",
        "outputId": "5dfc0447-93b0-4a4d-864e-3dd5fc189f06"
      },
      "execution_count": 57,
      "outputs": [
        {
          "output_type": "stream",
          "name": "stdout",
          "text": [
            "문자열의 주소값 ic-C\n",
            "포인터의 주소값 ic-C\n",
            "\n",
            "문자열의 실제값 i\n",
            "포인터의 실제값 i\n"
          ]
        },
        {
          "output_type": "execute_result",
          "data": {
            "text/plain": []
          },
          "metadata": {},
          "execution_count": 57
        }
      ]
    },
    {
      "cell_type": "markdown",
      "source": [
        "3행 5열 배열을 가리키는 포인터에서 arr[2][3]을 포인터로 접근하는 방법 \n",
        "\n",
        "\\*(arr[2]+3) 또는 \\*(ptr+2\\*5+3)"
      ],
      "metadata": {
        "id": "0dJBVL1jxHDM"
      }
    },
    {
      "cell_type": "code",
      "source": [
        "%%writefile doublepointer.c\n",
        "#include <stdio.h>\n",
        "int main()\n",
        "{\n",
        "    int arr[3][5]; //배열 선언 3x5\n",
        "    int *ptr; //포인터 선언\n",
        "    int i, j, x, y; \n",
        "    ptr = arr; // pointer = array \n",
        "\n",
        "    // arr[0][0] = 0 \n",
        "    // arr[0][1] = 1\n",
        "    // arr[0][2] = 2\n",
        "    // arr[0][4] = 4  \n",
        "    // arr[1][0] = 5\n",
        "    // ... \n",
        "    for(i=0; i<3; i++){\n",
        "        for(j=0; j<5; j++){\n",
        "            //ptr을 써서 나타내시오 \n",
        "            *(ptr+i*5+j) = i*5+j; //arr의 값을 바꿔줌 왜냐? 포인터는 직접 접근 용도\n",
        "        }\n",
        "    }\n",
        "\n",
        "\n",
        "    for(i=0; i<15; i++){\n",
        "        x = i/5;\n",
        "        y = i%5;\n",
        "        printf(\"arr[%d][%d] = %d\\n\", x, y, arr[x][y]); \n",
        "    }\n",
        "}"
      ],
      "metadata": {
        "colab": {
          "base_uri": "https://localhost:8080/"
        },
        "id": "gWEV0ObJh6ck",
        "outputId": "05cb6379-f1b0-42f8-d84c-ce620092389c"
      },
      "execution_count": 104,
      "outputs": [
        {
          "output_type": "stream",
          "name": "stdout",
          "text": [
            "Overwriting doublepointer.c\n"
          ]
        }
      ]
    },
    {
      "cell_type": "code",
      "source": [
        "%%shell\n",
        "gcc doublepointer.c -o doublepointer\n",
        "./doublepointer"
      ],
      "metadata": {
        "colab": {
          "base_uri": "https://localhost:8080/"
        },
        "id": "rB5PAt7oh6hz",
        "outputId": "a1d81dc4-d0e5-4cfe-b4ad-fa825c6fe04e"
      },
      "execution_count": 105,
      "outputs": [
        {
          "output_type": "stream",
          "name": "stdout",
          "text": [
            "\u001b[01m\u001b[Kdoublepointer.c:\u001b[m\u001b[K In function ‘\u001b[01m\u001b[Kmain\u001b[m\u001b[K’:\n",
            "\u001b[01m\u001b[Kdoublepointer.c:7:9:\u001b[m\u001b[K \u001b[01;35m\u001b[Kwarning: \u001b[m\u001b[Kassignment from incompatible pointer type [\u001b[01;35m\u001b[K-Wincompatible-pointer-types\u001b[m\u001b[K]\n",
            "     ptr \u001b[01;35m\u001b[K=\u001b[m\u001b[K arr; // pointer = array\n",
            "         \u001b[01;35m\u001b[K^\u001b[m\u001b[K\n",
            "arr[0][0] = 0\n",
            "arr[0][1] = 1\n",
            "arr[0][2] = 2\n",
            "arr[0][3] = 3\n",
            "arr[0][4] = 4\n",
            "arr[1][0] = 5\n",
            "arr[1][1] = 6\n",
            "arr[1][2] = 7\n",
            "arr[1][3] = 8\n",
            "arr[1][4] = 9\n",
            "arr[2][0] = 10\n",
            "arr[2][1] = 11\n",
            "arr[2][2] = 12\n",
            "arr[2][3] = 13\n",
            "arr[2][4] = 14\n"
          ]
        },
        {
          "output_type": "execute_result",
          "data": {
            "text/plain": []
          },
          "metadata": {},
          "execution_count": 105
        }
      ]
    },
    {
      "cell_type": "markdown",
      "source": [
        "###Dynamic Allocation "
      ],
      "metadata": {
        "id": "Af8MwD9e4wH-"
      }
    },
    {
      "cell_type": "markdown",
      "source": [
        "- stack에 할당된 것보다 더 큰 메모리를 쓰고 싶을 때 메모리를 동적할당하여 실행 중에도 메모리 확보 가능 \n",
        "\n",
        "- int n; int arr[n]; 컴파일 에러 -> 정적 할당 아직 n의 크기를 모르기 때문에 \n",
        "\n",
        "- malloc() 함수를 통해 메모리 동적 할당 가능\n",
        "\n",
        "        포인터 변수 = (포인터 변수의 데이터형\\*)malloc(포인터 변수의 데이터형 크기\\*필요한 크기)\n",
        "\n",
        "- int형 포인터 변수 p에 크기 3의 배열을 동적할당 \n",
        "\n",
        "        p = (int*)malloc(sizeof(int)*3); \n",
        "\n",
        "- 메모리 관련 함수 사용 시 다음 헤더 파일 포함: \n",
        "\n",
        "\\#include <stdlib.h>\n",
        "\n",
        "\\#include <malloc.h>\n",
        "\n",
        "- calloc() 함수: 0으로 초기화된 메모리 확보, 함수 원형\n",
        "        void* calloc(size_t elt_count, size_t elt_size) \n",
        "\n",
        "- 반환형이 void*인  이유: 어떤 자료형일지 모름 \n",
        "- 첫 번째 인자: 배열 원소 개수\n",
        "- 두 번째 인자: 원소 크기 (자료형 크기)\n",
        "- 사용예: ptr = (int*)calloc(5, sizeof(int)); \n",
        "- (int*)는 형변환 연산, 가리키는 데이터가 int이다.\n",
        "\n",
        "\n"
      ],
      "metadata": {
        "id": "wlJtmJfe66fB"
      }
    }
  ]
}