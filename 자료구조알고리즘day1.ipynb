{
  "nbformat": 4,
  "nbformat_minor": 0,
  "metadata": {
    "colab": {
      "provenance": [],
      "authorship_tag": "ABX9TyOxs/uOzyssO0JJsVXAp27e",
      "include_colab_link": true
    },
    "kernelspec": {
      "name": "python3",
      "display_name": "Python 3"
    },
    "language_info": {
      "name": "python"
    }
  },
  "cells": [
    {
      "cell_type": "markdown",
      "metadata": {
        "id": "view-in-github",
        "colab_type": "text"
      },
      "source": [
        "<a href=\"https://colab.research.google.com/github/hwangsaeyeon/dsalgorithm_bootcamp/blob/main/%EC%9E%90%EB%A3%8C%EA%B5%AC%EC%A1%B0%EC%95%8C%EA%B3%A0%EB%A6%AC%EC%A6%98day1.ipynb\" target=\"_parent\"><img src=\"https://colab.research.google.com/assets/colab-badge.svg\" alt=\"Open In Colab\"/></a>"
      ]
    },
    {
      "cell_type": "markdown",
      "source": [
        "##printf() function\n",
        "void (return값 필요없음) -> 안됨\n",
        "\n",
        "int (return 0; 필요) -> 이걸로 쓰기 \n",
        "\n",
        "문장 끝마다 세미콜론 붙이기\n",
        "\n",
        "\\#include <stido.h> 필요"
      ],
      "metadata": {
        "id": "YJDXBWyehaiI"
      }
    },
    {
      "cell_type": "code",
      "source": [
        "%%writefile hello.c\n",
        "#include <stdio.h>\n",
        "\n",
        "int main(void)\n",
        "{\n",
        "    printf(\"Hello World!\\n\");\n",
        "    printf(\"Hello Saeyeon!\\n\");\n",
        "    printf(\"%s %s\\n\",\"Hello\",\"1204\");\n",
        "    return 0;\n",
        "}"
      ],
      "metadata": {
        "colab": {
          "base_uri": "https://localhost:8080/"
        },
        "id": "C-RopStkhLDh",
        "outputId": "5b002acd-5b50-4e80-afe0-ccf888c17f34"
      },
      "execution_count": 11,
      "outputs": [
        {
          "output_type": "stream",
          "name": "stdout",
          "text": [
            "Writing hello.c\n"
          ]
        }
      ]
    },
    {
      "cell_type": "code",
      "source": [
        "%%shell\n",
        "gcc hello.c -o hello\n",
        "./hello"
      ],
      "metadata": {
        "colab": {
          "base_uri": "https://localhost:8080/"
        },
        "id": "0wrWOpephTP_",
        "outputId": "c580c5f2-e1ef-44d8-b73d-b03cdb253f3f"
      },
      "execution_count": 12,
      "outputs": [
        {
          "output_type": "stream",
          "name": "stdout",
          "text": [
            "Hello World!\n",
            "Hello Saeyeon!\n",
            "Hello 1204\n"
          ]
        },
        {
          "output_type": "execute_result",
          "data": {
            "text/plain": []
          },
          "metadata": {},
          "execution_count": 12
        }
      ]
    },
    {
      "cell_type": "code",
      "source": [
        "%%writefile digit.c\n",
        "#include <stdio.h>\n",
        "\n",
        "int main(void){\n",
        "    printf(\"%d\\n\",123);\n",
        "    printf(\"%5d\\n\",123);\n",
        "    printf(\"%05d\\n\",123);\n",
        "\n",
        "    printf(\"%f\\n\",123.45);\n",
        "    printf(\"%7.1f\\n\",123.45);\n",
        "    printf(\"%7.3f\\n\",123.45);\n",
        "\n",
        "    printf(\"%s\\n\",\"Basic-C\");\n",
        "    printf(\"%10s\\n\",\"Basic-C\"); \n",
        "    return 0;\n",
        "}"
      ],
      "metadata": {
        "colab": {
          "base_uri": "https://localhost:8080/"
        },
        "id": "WIgyVqW9hwSE",
        "outputId": "044e0ee1-6513-421f-bcb7-4ec332797f55"
      },
      "execution_count": 13,
      "outputs": [
        {
          "output_type": "stream",
          "name": "stdout",
          "text": [
            "Writing digit.c\n"
          ]
        }
      ]
    },
    {
      "cell_type": "code",
      "source": [
        "%%shell\n",
        "gcc digit.c -o digit\n",
        "./digit"
      ],
      "metadata": {
        "colab": {
          "base_uri": "https://localhost:8080/"
        },
        "id": "v888-jFBh59z",
        "outputId": "e01ff3b1-20fc-4857-fff4-70c15908dc11"
      },
      "execution_count": 14,
      "outputs": [
        {
          "output_type": "stream",
          "name": "stdout",
          "text": [
            "123\n",
            "  123\n",
            "00123\n",
            "123.450000\n",
            "  123.5\n",
            "123.450\n",
            "Basic-C\n",
            "   Basic-C\n"
          ]
        },
        {
          "output_type": "execute_result",
          "data": {
            "text/plain": []
          },
          "metadata": {},
          "execution_count": 14
        }
      ]
    },
    {
      "cell_type": "markdown",
      "source": [
        "###scanf() function\n",
        "scanf를 쓸 때는 \\#define _CRT_SECURE_NO_WARNINGS 필요"
      ],
      "metadata": {
        "id": "A6qOlZIDfzdY"
      }
    },
    {
      "cell_type": "code",
      "execution_count": 1,
      "metadata": {
        "colab": {
          "base_uri": "https://localhost:8080/"
        },
        "id": "pv_JLw23fMul",
        "outputId": "ec31c9a6-4118-465b-db32-f06e5b351d0a"
      },
      "outputs": [
        {
          "output_type": "stream",
          "name": "stdout",
          "text": [
            "Writing scanf.c\n"
          ]
        }
      ],
      "source": [
        "%%writefile scanf.c\n",
        "\n",
        "#define _CRT_SECURE_NO_WARNINGS\n",
        "#include <stdio.h>\n",
        "\n",
        "int main(void)\n",
        "{\n",
        "    int a,b;\n",
        "    int result ; \n",
        "\n",
        "    printf(\"첫번째 계산할 값을 입력하세요 ==>\");\n",
        "    scanf(\"%d\", &a); //& = 주소값 \n",
        "\n",
        "    printf(\"두번째 계산할 값을 입력하세요 ==>\"); \n",
        "    scanf(\"%d\", &b); \n",
        "\n",
        "    result = a+b;\n",
        "    printf(\"%d + %d = %d \\n\",a,b,result);\n",
        "    \n",
        " \n",
        "    return 0;\n",
        "}"
      ]
    },
    {
      "cell_type": "code",
      "source": [
        "%%shell\n",
        "gcc scanf.c -o scanf\n",
        "./scanf"
      ],
      "metadata": {
        "colab": {
          "base_uri": "https://localhost:8080/"
        },
        "id": "8U2vie5KfdKD",
        "outputId": "43d5a1af-a6be-4dd8-fdac-9f0fb4c6a5d4"
      },
      "execution_count": 3,
      "outputs": [
        {
          "output_type": "stream",
          "name": "stdout",
          "text": [
            "첫번째 계산할 값을 입력하세요 ==>10\n",
            "두번째 계산할 값을 입력하세요 ==>20\n",
            "10 + 20 = 30 \n"
          ]
        },
        {
          "output_type": "execute_result",
          "data": {
            "text/plain": []
          },
          "metadata": {},
          "execution_count": 3
        }
      ]
    },
    {
      "cell_type": "markdown",
      "source": [
        "###Variables\n",
        "같은 자료형만 한꺼번에 선언 가능\n",
        "\n",
        "int a,b; 가능\n",
        "\n",
        "int a, float b; 불가능"
      ],
      "metadata": {
        "id": "f6YCqKTFgFXr"
      }
    },
    {
      "cell_type": "code",
      "source": [
        "%%writefile variable_1.c\n",
        "\n",
        "#include <stdio.h>\n",
        "int main()\n",
        "{\n",
        "    int a; \n",
        "    float b;\n",
        "\n",
        "    a = 123.45;\n",
        "    b = 200; \n",
        "\n",
        "    printf(\"a의 값==>%d \\n\",a); \n",
        "    printf(\"b의 값==>%f \\n\",b); \n",
        "    return 0;\n",
        "}"
      ],
      "metadata": {
        "colab": {
          "base_uri": "https://localhost:8080/"
        },
        "id": "XMmTF-5PgWLJ",
        "outputId": "a89a748c-8e02-417b-ceb8-bd24446fcbf7"
      },
      "execution_count": 9,
      "outputs": [
        {
          "output_type": "stream",
          "name": "stdout",
          "text": [
            "Overwriting variable_1.c\n"
          ]
        }
      ]
    },
    {
      "cell_type": "code",
      "source": [
        "%%shell\n",
        "gcc variable_1.c -o variable\n",
        "./variable"
      ],
      "metadata": {
        "colab": {
          "base_uri": "https://localhost:8080/"
        },
        "id": "PXAW4hfNgoez",
        "outputId": "66bad874-42ec-42e6-a7e3-41369aa4cc06"
      },
      "execution_count": 10,
      "outputs": [
        {
          "output_type": "stream",
          "name": "stdout",
          "text": [
            "a의 값==>123 \n",
            "b의 값==>200.000000 \n"
          ]
        },
        {
          "output_type": "execute_result",
          "data": {
            "text/plain": []
          },
          "metadata": {},
          "execution_count": 10
        }
      ]
    },
    {
      "cell_type": "markdown",
      "source": [
        "###Arithmetic Operator\n",
        "산술연산자"
      ],
      "metadata": {
        "id": "QFkGDgN4kgbW"
      }
    },
    {
      "cell_type": "code",
      "source": [
        "%%writefile arithmetic_operator.c\n",
        "\n",
        "#include <stdio.h>\n",
        "int main()\n",
        "{\n",
        "    int num1 =2;\n",
        "    int num2; \n",
        "    int num3;\n",
        "    int num4 =2, num5 = 2; \n",
        "    num2 = num1++; //num1의 값을 num2에 할당한 뒤 num1의 값을 1 증가 (num2=num1, num1+=1)\n",
        "    num3 = ++num1; //num1의 값을 1 증가시킨 뒤 num3에 할당 (num1+=1, num2=num1)\n",
        "\n",
        "    printf(\"%d %d %d\\n\",num1,num2,num3);\n",
        "    printf(\"%d %d\\n\",num4++, ++num5);\n",
        "    printf(\"%d %d\\n\",num4,num5);\n",
        "\n",
        "    return 0; \n",
        "}"
      ],
      "metadata": {
        "colab": {
          "base_uri": "https://localhost:8080/"
        },
        "id": "SE7nlW2Gkil2",
        "outputId": "372d0654-6329-4548-cbdd-92ba0c2be31e"
      },
      "execution_count": 30,
      "outputs": [
        {
          "output_type": "stream",
          "name": "stdout",
          "text": [
            "Overwriting arithmetic_operator.c\n"
          ]
        }
      ]
    },
    {
      "cell_type": "code",
      "source": [
        "%%shell \n",
        "gcc arithmetic_operator.c -o arithmetic\n",
        "./arithmetic"
      ],
      "metadata": {
        "colab": {
          "base_uri": "https://localhost:8080/"
        },
        "id": "lgBt81XhnVf-",
        "outputId": "1f92e875-d484-4bf4-cccd-5fd942dcd1ef"
      },
      "execution_count": 31,
      "outputs": [
        {
          "output_type": "stream",
          "name": "stdout",
          "text": [
            "4 2 4\n",
            "2 3\n",
            "3 3\n"
          ]
        },
        {
          "output_type": "execute_result",
          "data": {
            "text/plain": []
          },
          "metadata": {},
          "execution_count": 31
        }
      ]
    },
    {
      "cell_type": "code",
      "source": [
        "%%writefile arithmetic_1.c\n",
        "#include <stdio.h>\n",
        "\n",
        "int main(){\n",
        "    int a,b=5, c=3;\n",
        "    a=b+c;\n",
        "    printf(\"%d + %d = %d \\n\",b,c,a);\n",
        "    \n",
        "    a=b-c;\n",
        "    printf(\"%d - %d = %d \\n\",b,c,a);\n",
        "\n",
        "    a=b*c;\n",
        "    printf(\"%d * %d = %d \\n\",b,c,a);\n",
        "\n",
        "    a=b/c;\n",
        "    printf(\"%d / %d = %d \\n\",b,c,a);\n",
        "\n",
        "    a=b%c;\n",
        "    printf(\"%d %% %d = %d \\n\",b,c,a);\n",
        "\n",
        "    return 0; \n",
        "}"
      ],
      "metadata": {
        "colab": {
          "base_uri": "https://localhost:8080/"
        },
        "id": "hBs3JqNpoWfQ",
        "outputId": "f6eee0bb-069b-49ee-961b-dd4ba7304004"
      },
      "execution_count": 32,
      "outputs": [
        {
          "output_type": "stream",
          "name": "stdout",
          "text": [
            "Writing arithmetic_1.c\n"
          ]
        }
      ]
    },
    {
      "cell_type": "code",
      "source": [
        "%%shell \n",
        "gcc arithmetic_1.c -o arithmetic1\n",
        "./arithmetic1 "
      ],
      "metadata": {
        "colab": {
          "base_uri": "https://localhost:8080/"
        },
        "id": "HqMXvAf9pJ74",
        "outputId": "905eb0ab-d96d-4a74-be3f-6add92e5668c"
      },
      "execution_count": 33,
      "outputs": [
        {
          "output_type": "stream",
          "name": "stdout",
          "text": [
            "5 + 3 = 8 \n",
            "5 - 3 = 2 \n",
            "5 * 3 = 15 \n",
            "5 / 3 = 1 \n",
            "5 % 3 = 2 \n"
          ]
        },
        {
          "output_type": "execute_result",
          "data": {
            "text/plain": []
          },
          "metadata": {},
          "execution_count": 33
        }
      ]
    },
    {
      "cell_type": "code",
      "source": [
        "%%writefile arithmetic_2.c\n",
        "\n",
        "#include <stdio.h>\n",
        "\n",
        "int main(){\n",
        "    int a=2, b=3, c=4;\n",
        "    int result1, mok, namugi;\n",
        "    float result2; \n",
        "\n",
        "    result1 = a+b-c;\n",
        "    printf(\"%d + %d - %d = %d \\n\", a,b,c, result1);\n",
        "\n",
        "    result1 = a+b*c;\n",
        "    printf(\"%d + %d * %d = %d \\n\", a,b,c, result1);\n",
        "\n",
        "    result2 = a*b/(float)c; \n",
        "    printf(\"%d * %d / %d = %f \\n\", a,b,c, result2);\n",
        "\n",
        "    mok = c/b;\n",
        "    printf(\"%d / %d의 몫은 %d \\n\",c,b,mok);\n",
        "\n",
        "    namugi = c%b;\n",
        "    printf(\"%d %% %d의 나머지는 %d \\n\",c,b,namugi);\n",
        "}"
      ],
      "metadata": {
        "colab": {
          "base_uri": "https://localhost:8080/"
        },
        "id": "PI-quBrHpTjQ",
        "outputId": "d3841c8a-cad8-4ce1-b4fa-b7fad339d41c"
      },
      "execution_count": 35,
      "outputs": [
        {
          "output_type": "stream",
          "name": "stdout",
          "text": [
            "Overwriting arithmetic_2.c\n"
          ]
        }
      ]
    },
    {
      "cell_type": "code",
      "source": [
        "%%shell \n",
        "gcc arithmetic_2.c -o arithmetic2\n",
        "./arithmetic2"
      ],
      "metadata": {
        "colab": {
          "base_uri": "https://localhost:8080/"
        },
        "id": "6mK2m6oBqJdO",
        "outputId": "05f92d93-1150-4212-a291-37886d63a45e"
      },
      "execution_count": 36,
      "outputs": [
        {
          "output_type": "stream",
          "name": "stdout",
          "text": [
            "2 + 3 - 4 = 1 \n",
            "2 + 3 * 4 = 14 \n",
            "2 * 3 / 4 = 1.500000 \n",
            "4 / 3의 몫은 1 \n",
            "4 % 3의 나머지는 1 \n"
          ]
        },
        {
          "output_type": "execute_result",
          "data": {
            "text/plain": []
          },
          "metadata": {},
          "execution_count": 36
        }
      ]
    }
  ]
}